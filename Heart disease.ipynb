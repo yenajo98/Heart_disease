{
 "cells": [
  {
   "cell_type": "code",
   "execution_count": 1,
   "id": "d0b332db-caf2-4e95-ba13-24641a17da89",
   "metadata": {},
   "outputs": [],
   "source": [
    "import numpy as np\n",
    "import matplotlib.pyplot as plt\n",
    "%matplotlib inline\n",
    "import pandas as pd\n",
    "import seaborn as sns"
   ]
  },
  {
   "cell_type": "code",
   "execution_count": 2,
   "id": "ddd263b6-d31d-4cd8-9f37-7e69c91117ef",
   "metadata": {
    "tags": []
   },
   "outputs": [],
   "source": [
    "df = pd.read_csv(\"Dataset/heart.csv\")"
   ]
  },
  {
   "cell_type": "code",
   "execution_count": 3,
   "id": "97c26727-054e-4f7c-95a0-d303d2dd8645",
   "metadata": {},
   "outputs": [
    {
     "name": "stdout",
     "output_type": "stream",
     "text": [
      "<class 'pandas.core.frame.DataFrame'>\n",
      "RangeIndex: 918 entries, 0 to 917\n",
      "Data columns (total 12 columns):\n",
      " #   Column          Non-Null Count  Dtype  \n",
      "---  ------          --------------  -----  \n",
      " 0   Age             918 non-null    int64  \n",
      " 1   Sex             918 non-null    object \n",
      " 2   ChestPainType   918 non-null    object \n",
      " 3   RestingBP       918 non-null    int64  \n",
      " 4   Cholesterol     918 non-null    int64  \n",
      " 5   FastingBS       918 non-null    int64  \n",
      " 6   RestingECG      918 non-null    object \n",
      " 7   MaxHR           918 non-null    int64  \n",
      " 8   ExerciseAngina  918 non-null    object \n",
      " 9   Oldpeak         918 non-null    float64\n",
      " 10  ST_Slope        918 non-null    object \n",
      " 11  HeartDisease    918 non-null    int64  \n",
      "dtypes: float64(1), int64(6), object(5)\n",
      "memory usage: 86.2+ KB\n"
     ]
    }
   ],
   "source": [
    "df.info()"
   ]
  },
  {
   "cell_type": "code",
   "execution_count": 4,
   "id": "39f5375f-0089-4d37-8d6c-0b7e8a2fcd88",
   "metadata": {},
   "outputs": [
    {
     "data": {
      "text/html": [
       "<div>\n",
       "<style scoped>\n",
       "    .dataframe tbody tr th:only-of-type {\n",
       "        vertical-align: middle;\n",
       "    }\n",
       "\n",
       "    .dataframe tbody tr th {\n",
       "        vertical-align: top;\n",
       "    }\n",
       "\n",
       "    .dataframe thead th {\n",
       "        text-align: right;\n",
       "    }\n",
       "</style>\n",
       "<table border=\"1\" class=\"dataframe\">\n",
       "  <thead>\n",
       "    <tr style=\"text-align: right;\">\n",
       "      <th></th>\n",
       "      <th>Age</th>\n",
       "      <th>Sex</th>\n",
       "      <th>ChestPainType</th>\n",
       "      <th>RestingBP</th>\n",
       "      <th>Cholesterol</th>\n",
       "      <th>FastingBS</th>\n",
       "      <th>RestingECG</th>\n",
       "      <th>MaxHR</th>\n",
       "      <th>ExerciseAngina</th>\n",
       "      <th>Oldpeak</th>\n",
       "      <th>ST_Slope</th>\n",
       "      <th>HeartDisease</th>\n",
       "    </tr>\n",
       "  </thead>\n",
       "  <tbody>\n",
       "    <tr>\n",
       "      <th>0</th>\n",
       "      <td>40</td>\n",
       "      <td>M</td>\n",
       "      <td>ATA</td>\n",
       "      <td>140</td>\n",
       "      <td>289</td>\n",
       "      <td>0</td>\n",
       "      <td>Normal</td>\n",
       "      <td>172</td>\n",
       "      <td>N</td>\n",
       "      <td>0.0</td>\n",
       "      <td>Up</td>\n",
       "      <td>0</td>\n",
       "    </tr>\n",
       "    <tr>\n",
       "      <th>1</th>\n",
       "      <td>49</td>\n",
       "      <td>F</td>\n",
       "      <td>NAP</td>\n",
       "      <td>160</td>\n",
       "      <td>180</td>\n",
       "      <td>0</td>\n",
       "      <td>Normal</td>\n",
       "      <td>156</td>\n",
       "      <td>N</td>\n",
       "      <td>1.0</td>\n",
       "      <td>Flat</td>\n",
       "      <td>1</td>\n",
       "    </tr>\n",
       "    <tr>\n",
       "      <th>2</th>\n",
       "      <td>37</td>\n",
       "      <td>M</td>\n",
       "      <td>ATA</td>\n",
       "      <td>130</td>\n",
       "      <td>283</td>\n",
       "      <td>0</td>\n",
       "      <td>ST</td>\n",
       "      <td>98</td>\n",
       "      <td>N</td>\n",
       "      <td>0.0</td>\n",
       "      <td>Up</td>\n",
       "      <td>0</td>\n",
       "    </tr>\n",
       "    <tr>\n",
       "      <th>3</th>\n",
       "      <td>48</td>\n",
       "      <td>F</td>\n",
       "      <td>ASY</td>\n",
       "      <td>138</td>\n",
       "      <td>214</td>\n",
       "      <td>0</td>\n",
       "      <td>Normal</td>\n",
       "      <td>108</td>\n",
       "      <td>Y</td>\n",
       "      <td>1.5</td>\n",
       "      <td>Flat</td>\n",
       "      <td>1</td>\n",
       "    </tr>\n",
       "    <tr>\n",
       "      <th>4</th>\n",
       "      <td>54</td>\n",
       "      <td>M</td>\n",
       "      <td>NAP</td>\n",
       "      <td>150</td>\n",
       "      <td>195</td>\n",
       "      <td>0</td>\n",
       "      <td>Normal</td>\n",
       "      <td>122</td>\n",
       "      <td>N</td>\n",
       "      <td>0.0</td>\n",
       "      <td>Up</td>\n",
       "      <td>0</td>\n",
       "    </tr>\n",
       "    <tr>\n",
       "      <th>5</th>\n",
       "      <td>39</td>\n",
       "      <td>M</td>\n",
       "      <td>NAP</td>\n",
       "      <td>120</td>\n",
       "      <td>339</td>\n",
       "      <td>0</td>\n",
       "      <td>Normal</td>\n",
       "      <td>170</td>\n",
       "      <td>N</td>\n",
       "      <td>0.0</td>\n",
       "      <td>Up</td>\n",
       "      <td>0</td>\n",
       "    </tr>\n",
       "    <tr>\n",
       "      <th>6</th>\n",
       "      <td>45</td>\n",
       "      <td>F</td>\n",
       "      <td>ATA</td>\n",
       "      <td>130</td>\n",
       "      <td>237</td>\n",
       "      <td>0</td>\n",
       "      <td>Normal</td>\n",
       "      <td>170</td>\n",
       "      <td>N</td>\n",
       "      <td>0.0</td>\n",
       "      <td>Up</td>\n",
       "      <td>0</td>\n",
       "    </tr>\n",
       "    <tr>\n",
       "      <th>7</th>\n",
       "      <td>54</td>\n",
       "      <td>M</td>\n",
       "      <td>ATA</td>\n",
       "      <td>110</td>\n",
       "      <td>208</td>\n",
       "      <td>0</td>\n",
       "      <td>Normal</td>\n",
       "      <td>142</td>\n",
       "      <td>N</td>\n",
       "      <td>0.0</td>\n",
       "      <td>Up</td>\n",
       "      <td>0</td>\n",
       "    </tr>\n",
       "    <tr>\n",
       "      <th>8</th>\n",
       "      <td>37</td>\n",
       "      <td>M</td>\n",
       "      <td>ASY</td>\n",
       "      <td>140</td>\n",
       "      <td>207</td>\n",
       "      <td>0</td>\n",
       "      <td>Normal</td>\n",
       "      <td>130</td>\n",
       "      <td>Y</td>\n",
       "      <td>1.5</td>\n",
       "      <td>Flat</td>\n",
       "      <td>1</td>\n",
       "    </tr>\n",
       "    <tr>\n",
       "      <th>9</th>\n",
       "      <td>48</td>\n",
       "      <td>F</td>\n",
       "      <td>ATA</td>\n",
       "      <td>120</td>\n",
       "      <td>284</td>\n",
       "      <td>0</td>\n",
       "      <td>Normal</td>\n",
       "      <td>120</td>\n",
       "      <td>N</td>\n",
       "      <td>0.0</td>\n",
       "      <td>Up</td>\n",
       "      <td>0</td>\n",
       "    </tr>\n",
       "  </tbody>\n",
       "</table>\n",
       "</div>"
      ],
      "text/plain": [
       "   Age Sex ChestPainType  RestingBP  Cholesterol  FastingBS RestingECG  MaxHR  \\\n",
       "0   40   M           ATA        140          289          0     Normal    172   \n",
       "1   49   F           NAP        160          180          0     Normal    156   \n",
       "2   37   M           ATA        130          283          0         ST     98   \n",
       "3   48   F           ASY        138          214          0     Normal    108   \n",
       "4   54   M           NAP        150          195          0     Normal    122   \n",
       "5   39   M           NAP        120          339          0     Normal    170   \n",
       "6   45   F           ATA        130          237          0     Normal    170   \n",
       "7   54   M           ATA        110          208          0     Normal    142   \n",
       "8   37   M           ASY        140          207          0     Normal    130   \n",
       "9   48   F           ATA        120          284          0     Normal    120   \n",
       "\n",
       "  ExerciseAngina  Oldpeak ST_Slope  HeartDisease  \n",
       "0              N      0.0       Up             0  \n",
       "1              N      1.0     Flat             1  \n",
       "2              N      0.0       Up             0  \n",
       "3              Y      1.5     Flat             1  \n",
       "4              N      0.0       Up             0  \n",
       "5              N      0.0       Up             0  \n",
       "6              N      0.0       Up             0  \n",
       "7              N      0.0       Up             0  \n",
       "8              Y      1.5     Flat             1  \n",
       "9              N      0.0       Up             0  "
      ]
     },
     "execution_count": 4,
     "metadata": {},
     "output_type": "execute_result"
    }
   ],
   "source": [
    "df.head(10)"
   ]
  },
  {
   "cell_type": "markdown",
   "id": "69a5d9de-012c-47b1-8efd-65738b98b299",
   "metadata": {},
   "source": [
    "## Continous features"
   ]
  },
  {
   "cell_type": "code",
   "execution_count": 5,
   "id": "a5d937e4-8242-4d66-996b-fafe7667706a",
   "metadata": {},
   "outputs": [
    {
     "data": {
      "text/html": [
       "<div>\n",
       "<style scoped>\n",
       "    .dataframe tbody tr th:only-of-type {\n",
       "        vertical-align: middle;\n",
       "    }\n",
       "\n",
       "    .dataframe tbody tr th {\n",
       "        vertical-align: top;\n",
       "    }\n",
       "\n",
       "    .dataframe thead th {\n",
       "        text-align: right;\n",
       "    }\n",
       "</style>\n",
       "<table border=\"1\" class=\"dataframe\">\n",
       "  <thead>\n",
       "    <tr style=\"text-align: right;\">\n",
       "      <th></th>\n",
       "      <th>Age</th>\n",
       "      <th>RestingBP</th>\n",
       "      <th>Cholesterol</th>\n",
       "      <th>FastingBS</th>\n",
       "      <th>MaxHR</th>\n",
       "      <th>Oldpeak</th>\n",
       "    </tr>\n",
       "    <tr>\n",
       "      <th>HeartDisease</th>\n",
       "      <th></th>\n",
       "      <th></th>\n",
       "      <th></th>\n",
       "      <th></th>\n",
       "      <th></th>\n",
       "      <th></th>\n",
       "    </tr>\n",
       "  </thead>\n",
       "  <tbody>\n",
       "    <tr>\n",
       "      <th>0</th>\n",
       "      <td>50.551220</td>\n",
       "      <td>130.180488</td>\n",
       "      <td>227.121951</td>\n",
       "      <td>0.107317</td>\n",
       "      <td>148.151220</td>\n",
       "      <td>0.408049</td>\n",
       "    </tr>\n",
       "    <tr>\n",
       "      <th>1</th>\n",
       "      <td>55.899606</td>\n",
       "      <td>134.185039</td>\n",
       "      <td>175.940945</td>\n",
       "      <td>0.334646</td>\n",
       "      <td>127.655512</td>\n",
       "      <td>1.274213</td>\n",
       "    </tr>\n",
       "  </tbody>\n",
       "</table>\n",
       "</div>"
      ],
      "text/plain": [
       "                    Age   RestingBP  Cholesterol  FastingBS       MaxHR  \\\n",
       "HeartDisease                                                              \n",
       "0             50.551220  130.180488   227.121951   0.107317  148.151220   \n",
       "1             55.899606  134.185039   175.940945   0.334646  127.655512   \n",
       "\n",
       "               Oldpeak  \n",
       "HeartDisease            \n",
       "0             0.408049  \n",
       "1             1.274213  "
      ]
     },
     "execution_count": 5,
     "metadata": {},
     "output_type": "execute_result"
    }
   ],
   "source": [
    "df.groupby(['HeartDisease']).mean()  #heart dieases chance according to age"
   ]
  },
  {
   "cell_type": "code",
   "execution_count": 6,
   "id": "30f054c5-fa03-4572-9c24-14eca65fe4d6",
   "metadata": {},
   "outputs": [
    {
     "name": "stdout",
     "output_type": "stream",
     "text": [
      "28 77\n"
     ]
    }
   ],
   "source": [
    "print(df['Age'].min(),df['Age'].max())"
   ]
  },
  {
   "cell_type": "code",
   "execution_count": 7,
   "id": "1c227805-1cc6-4c01-bd9e-57ddc1fdb90d",
   "metadata": {},
   "outputs": [
    {
     "data": {
      "image/png": "[encoded data removed]",
      "text/plain": [
       "<Figure size 864x576 with 4 Axes>"
      ]
     },
     "metadata": {
      "needs_background": "light"
     },
     "output_type": "display_data"
    }
   ],
   "source": [
    "fig,axes = plt.subplots(2,2, figsize= (12,8))\n",
    "fig.tight_layout()\n",
    "\n",
    "features =['Age','RestingBP','Cholesterol','MaxHR']\n",
    "titles = ['Age','Blood Pressure','Cholesterol','Heart Rate Max']\n",
    "\n",
    "for f,ax,t in zip(features, axes.flatten(), titles):\n",
    "    has_hd= df.loc[df['HeartDisease']== 1,f]\n",
    "    no_hd= df.loc[df['HeartDisease'] == 0,f]\n",
    "    min_x= min(has_hd.min(),no_hd.min())\n",
    "    max_x= min(has_hd.max(),no_hd.max())\n",
    "    bins = (max_x - min_x) // 20\n",
    "    sns.histplot(has_hd, color='r',bins=np.arange(min_x,max_x,bins),label='has heart disease',ax=ax)\n",
    "    sns.histplot(no_hd, color='g',bins=np.arange(min_x,max_x,bins),label='no heart disease',ax=ax)\n",
    "    ax.legend()"
   ]
  },
  {
   "cell_type": "markdown",
   "id": "fda6971c-6c87-4275-b587-1f5c257878c4",
   "metadata": {},
   "source": [
    "### Insights \n",
    "* +55 has higher likelihood of getting heartdiesase\n",
    "* low MaxHR has higher likelihood of getting heartdiesase\n",
    "* RestingBP is not a good feature for prediction\n",
    "* Cholesterol data is missing discriminately\n",
    "\n"
   ]
  },
  {
   "cell_type": "markdown",
   "id": "25eb9b3d-86e2-4682-862a-5aae3713eb63",
   "metadata": {},
   "source": [
    "## Categorical features"
   ]
  },
  {
   "cell_type": "code",
   "execution_count": 8,
   "id": "6feab251-5ed8-43ac-bbec-b37c735c29de",
   "metadata": {},
   "outputs": [
    {
     "data": {
      "text/plain": [
       "Sex\n",
       "F    0.259067\n",
       "M    0.631724\n",
       "Name: HeartDisease, dtype: float64"
      ]
     },
     "execution_count": 8,
     "metadata": {},
     "output_type": "execute_result"
    }
   ],
   "source": [
    "df.groupby(['Sex']).mean()['HeartDisease']  # .mean ==> probability (for binary only)"
   ]
  },
  {
   "cell_type": "code",
   "execution_count": 9,
   "id": "ef8311d6-ccbf-4f2d-89b7-39f00346dd76",
   "metadata": {},
   "outputs": [
    {
     "data": {
      "image/png": "[encoded data removed]",
      "text/plain": [
       "<Figure size 864x576 with 4 Axes>"
      ]
     },
     "metadata": {
      "needs_background": "light"
     },
     "output_type": "display_data"
    }
   ],
   "source": [
    "fig,axes = plt.subplots(2,2, figsize= (12,8))\n",
    "\n",
    "features =['Sex','ChestPainType','ExerciseAngina','ST_Slope']\n",
    "titles = ['Sex','Chest Pain Type','Exercise Angina','ST Slope']\n",
    "\n",
    "for f,ax,t in zip(features, axes.flatten(), titles):\n",
    "    \n",
    "    sns.pointplot(x= f,y= 'HeartDisease',data = df, ax = ax)\n",
    "    ax.set_title(t)\n",
    "    \n",
    "fig.tight_layout()"
   ]
  },
  {
   "cell_type": "markdown",
   "id": "d289b310-db44-431d-86b1-6f90aead842c",
   "metadata": {},
   "source": [
    "#### Insights\n",
    "\n",
    "* Male has high likelihood of heartdisease\n",
    "* Asymptomatic(ASY) chest pain type has high likelihood of heartdisease\n",
    "* People with angina after exercise give a high likelihood of heartdisease\n",
    "* people with up ST slope have low likelihood of heartdisease"
   ]
  },
  {
   "cell_type": "code",
   "execution_count": 10,
   "id": "74ce0c3c-a0a8-458d-965b-72f3d6b9f780",
   "metadata": {},
   "outputs": [
    {
     "data": {
      "image/png": "[encoded data removed]",
      "text/plain": [
       "<Figure size 360x360 with 1 Axes>"
      ]
     },
     "metadata": {
      "needs_background": "light"
     },
     "output_type": "display_data"
    }
   ],
   "source": [
    "sns.catplot(x='HeartDisease', y='Oldpeak', kind='point', data=df);"
   ]
  },
  {
   "cell_type": "markdown",
   "id": "21d7dc36-6030-4114-81b5-d69925a3b094",
   "metadata": {},
   "source": [
    "# Tranformation and Cleaning"
   ]
  },
  {
   "cell_type": "code",
   "execution_count": 50,
   "id": "c0836efb-928c-4f2a-afce-3bb330cd63f7",
   "metadata": {},
   "outputs": [
    {
     "data": {
      "text/html": [
       "<div>\n",
       "<style scoped>\n",
       "    .dataframe tbody tr th:only-of-type {\n",
       "        vertical-align: middle;\n",
       "    }\n",
       "\n",
       "    .dataframe tbody tr th {\n",
       "        vertical-align: top;\n",
       "    }\n",
       "\n",
       "    .dataframe thead th {\n",
       "        text-align: right;\n",
       "    }\n",
       "</style>\n",
       "<table border=\"1\" class=\"dataframe\">\n",
       "  <thead>\n",
       "    <tr style=\"text-align: right;\">\n",
       "      <th></th>\n",
       "      <th>Female?</th>\n",
       "      <th>ChestPain</th>\n",
       "      <th>HasAngina?</th>\n",
       "      <th>UpST?</th>\n",
       "      <th>Old?</th>\n",
       "      <th>LowHR?</th>\n",
       "      <th>MissingCholesterol?</th>\n",
       "      <th>HighOldPeak?</th>\n",
       "      <th>HD?</th>\n",
       "    </tr>\n",
       "  </thead>\n",
       "  <tbody>\n",
       "    <tr>\n",
       "      <th>0</th>\n",
       "      <td>0</td>\n",
       "      <td>0</td>\n",
       "      <td>0</td>\n",
       "      <td>1</td>\n",
       "      <td>0</td>\n",
       "      <td>0</td>\n",
       "      <td>0</td>\n",
       "      <td>0</td>\n",
       "      <td>0</td>\n",
       "    </tr>\n",
       "    <tr>\n",
       "      <th>1</th>\n",
       "      <td>1</td>\n",
       "      <td>1</td>\n",
       "      <td>0</td>\n",
       "      <td>0</td>\n",
       "      <td>0</td>\n",
       "      <td>0</td>\n",
       "      <td>0</td>\n",
       "      <td>0</td>\n",
       "      <td>1</td>\n",
       "    </tr>\n",
       "    <tr>\n",
       "      <th>2</th>\n",
       "      <td>0</td>\n",
       "      <td>0</td>\n",
       "      <td>0</td>\n",
       "      <td>1</td>\n",
       "      <td>0</td>\n",
       "      <td>1</td>\n",
       "      <td>0</td>\n",
       "      <td>0</td>\n",
       "      <td>0</td>\n",
       "    </tr>\n",
       "    <tr>\n",
       "      <th>3</th>\n",
       "      <td>1</td>\n",
       "      <td>2</td>\n",
       "      <td>1</td>\n",
       "      <td>0</td>\n",
       "      <td>0</td>\n",
       "      <td>1</td>\n",
       "      <td>0</td>\n",
       "      <td>1</td>\n",
       "      <td>1</td>\n",
       "    </tr>\n",
       "    <tr>\n",
       "      <th>4</th>\n",
       "      <td>0</td>\n",
       "      <td>1</td>\n",
       "      <td>0</td>\n",
       "      <td>1</td>\n",
       "      <td>1</td>\n",
       "      <td>1</td>\n",
       "      <td>0</td>\n",
       "      <td>0</td>\n",
       "      <td>0</td>\n",
       "    </tr>\n",
       "  </tbody>\n",
       "</table>\n",
       "</div>"
      ],
      "text/plain": [
       "   Female?  ChestPain  HasAngina?  UpST?  Old?  LowHR?  MissingCholesterol?  \\\n",
       "0        0          0           0      1     0       0                    0   \n",
       "1        1          1           0      0     0       0                    0   \n",
       "2        0          0           0      1     0       1                    0   \n",
       "3        1          2           1      0     0       1                    0   \n",
       "4        0          1           0      1     1       1                    0   \n",
       "\n",
       "   HighOldPeak?  HD?  \n",
       "0             0    0  \n",
       "1             0    1  \n",
       "2             0    0  \n",
       "3             1    1  \n",
       "4             0    0  "
      ]
     },
     "execution_count": 50,
     "metadata": {},
     "output_type": "execute_result"
    }
   ],
   "source": [
    "df_clean = pd.DataFrame()\n",
    "\n",
    "# Tranform Categorical Data\n",
    "df_clean['Female?'] = np.where(df['Sex'] == 'F', 1, 0)\n",
    "#df_clean['ASYPain?'] = np.where(df['ChestPainType'] == 'ASY', 1, 0)\n",
    "df_clean['ChestPain'] = df['ChestPainType'].map({'ATA': 0, 'NAP': 1, 'ASY': 2, 'TA': 3})\n",
    "df_clean['HasAngina?'] = np.where(df['ExerciseAngina'] == 'Y', 1, 0)\n",
    "df_clean['UpST?'] = np.where(df['ST_Slope'] == 'Up', 1, 0)\n",
    "\n",
    "# Transform Continuos Data\n",
    "df_clean['Old?'] = np.where(df['Age'] > 53, 1, 0)\n",
    "# df_clean['Age'] =  df['Age']\n",
    "df_clean['LowHR?'] = np.where(df['MaxHR'] < 135, 1, 0)\n",
    "df_clean['MissingCholesterol?'] = np.where(df['Cholesterol'] == 0, 1, 0)\n",
    "df_clean['HighOldPeak?'] = np.where(df['Oldpeak'] > 1.2, 1, 0)\n",
    "\n",
    "df_clean['HD?'] = df['HeartDisease']\n",
    "\n",
    "df_clean.head()"
   ]
  },
  {
   "cell_type": "code",
   "execution_count": 51,
   "id": "63333fe1-aade-45bf-90e4-78757b54ed29",
   "metadata": {},
   "outputs": [
    {
     "data": {
      "text/plain": [
       "<AxesSubplot:>"
      ]
     },
     "execution_count": 51,
     "metadata": {},
     "output_type": "execute_result"
    },
    {
     "data": {
      "image/png": "[encoded data removed]",
      "text/plain": [
       "<Figure size 432x288 with 2 Axes>"
      ]
     },
     "metadata": {
      "needs_background": "light"
     },
     "output_type": "display_data"
    }
   ],
   "source": [
    "sns.heatmap(np.abs(df_clean.corr()), annot=True, fmt='.1f')"
   ]
  },
  {
   "cell_type": "code",
   "execution_count": 53,
   "id": "797ee17d-674b-46e7-977c-7e284078a78f",
   "metadata": {},
   "outputs": [
    {
     "data": {
      "text/plain": [
       "ChestPain\n",
       "0    0.138728\n",
       "1    0.354680\n",
       "2    0.790323\n",
       "3    0.434783\n",
       "Name: HD?, dtype: float64"
      ]
     },
     "execution_count": 53,
     "metadata": {},
     "output_type": "execute_result"
    }
   ],
   "source": [
    "df_clean.groupby('ChestPain').mean()['HD?']"
   ]
  },
  {
   "cell_type": "code",
   "execution_count": 54,
   "id": "8fea032e-31ab-4626-9f1a-c19187691afc",
   "metadata": {},
   "outputs": [
    {
     "data": {
      "text/html": [
       "<div>\n",
       "<style scoped>\n",
       "    .dataframe tbody tr th:only-of-type {\n",
       "        vertical-align: middle;\n",
       "    }\n",
       "\n",
       "    .dataframe tbody tr th {\n",
       "        vertical-align: top;\n",
       "    }\n",
       "\n",
       "    .dataframe thead th {\n",
       "        text-align: right;\n",
       "    }\n",
       "</style>\n",
       "<table border=\"1\" class=\"dataframe\">\n",
       "  <thead>\n",
       "    <tr style=\"text-align: right;\">\n",
       "      <th></th>\n",
       "      <th>Female?</th>\n",
       "      <th>ChestPain</th>\n",
       "      <th>HasAngina?</th>\n",
       "      <th>UpST?</th>\n",
       "      <th>Old?</th>\n",
       "      <th>LowHR?</th>\n",
       "      <th>MissingCholesterol?</th>\n",
       "      <th>HighOldPeak?</th>\n",
       "    </tr>\n",
       "    <tr>\n",
       "      <th>HD?</th>\n",
       "      <th></th>\n",
       "      <th></th>\n",
       "      <th></th>\n",
       "      <th></th>\n",
       "      <th></th>\n",
       "      <th></th>\n",
       "      <th></th>\n",
       "      <th></th>\n",
       "    </tr>\n",
       "  </thead>\n",
       "  <tbody>\n",
       "    <tr>\n",
       "      <th>0</th>\n",
       "      <td>0.348780</td>\n",
       "      <td>1.017073</td>\n",
       "      <td>0.134146</td>\n",
       "      <td>0.773171</td>\n",
       "      <td>0.40000</td>\n",
       "      <td>0.253659</td>\n",
       "      <td>0.048780</td>\n",
       "      <td>0.134146</td>\n",
       "    </tr>\n",
       "    <tr>\n",
       "      <th>1</th>\n",
       "      <td>0.098425</td>\n",
       "      <td>1.803150</td>\n",
       "      <td>0.622047</td>\n",
       "      <td>0.153543</td>\n",
       "      <td>0.65748</td>\n",
       "      <td>0.627953</td>\n",
       "      <td>0.299213</td>\n",
       "      <td>0.482283</td>\n",
       "    </tr>\n",
       "  </tbody>\n",
       "</table>\n",
       "</div>"
      ],
      "text/plain": [
       "      Female?  ChestPain  HasAngina?     UpST?     Old?    LowHR?  \\\n",
       "HD?                                                                 \n",
       "0    0.348780   1.017073    0.134146  0.773171  0.40000  0.253659   \n",
       "1    0.098425   1.803150    0.622047  0.153543  0.65748  0.627953   \n",
       "\n",
       "     MissingCholesterol?  HighOldPeak?  \n",
       "HD?                                     \n",
       "0               0.048780      0.134146  \n",
       "1               0.299213      0.482283  "
      ]
     },
     "execution_count": 54,
     "metadata": {},
     "output_type": "execute_result"
    }
   ],
   "source": [
    "df_clean.groupby('HD?').mean()"
   ]
  },
  {
   "cell_type": "markdown",
   "id": "3e4d6b5b-3001-40bd-ac7e-c5b457b3dd96",
   "metadata": {},
   "source": [
    "# Exploring Train Data"
   ]
  },
  {
   "cell_type": "code",
   "execution_count": 55,
   "id": "d1d35371-0b8c-4571-80df-8c8489af2e3b",
   "metadata": {},
   "outputs": [],
   "source": [
    "from sklearn.model_selection import train_test_split\n",
    "\n",
    "features = df_clean.drop(columns=['HD?'])\n",
    "labels = df_clean['HD?']\n",
    "\n",
    "x_train, x_test, y_train, y_test = train_test_split(features, labels, random_state=42, test_size=0.4)\n",
    "x_val, x_test, y_val, y_test = train_test_split(features, labels, random_state=42, test_size=0.5)"
   ]
  },
  {
   "cell_type": "markdown",
   "id": "cc44d61d-f57d-4328-9d59-e2ae6da527d7",
   "metadata": {},
   "source": [
    "# Training a Basic Model"
   ]
  },
  {
   "cell_type": "code",
   "execution_count": 56,
   "id": "d0a462a3-f214-4389-b26a-340d92de96e3",
   "metadata": {},
   "outputs": [],
   "source": [
    "from sklearn.ensemble import RandomForestClassifier\n",
    "from sklearn.neighbors import KNeighborsClassifier\n",
    "from sklearn.svm import LinearSVC\n",
    "from sklearn.model_selection import GridSearchCV\n",
    "from sklearn.metrics import accuracy_score, precision_score, recall_score\n",
    "import warnings\n",
    "warnings.filterwarnings('ignore')"
   ]
  },
  {
   "cell_type": "code",
   "execution_count": 57,
   "id": "931348e4-ccc3-482b-ad74-7a4d7f44b7c8",
   "metadata": {},
   "outputs": [],
   "source": [
    "def print_results(results):\n",
    "    print(f'BEST PARAMS: {results.best_params_}\\n')\n",
    "    \n",
    "    means = results.cv_results_['mean_test_score']\n",
    "    stds = results.cv_results_['std_test_score']\n",
    "    for mean, std, params in zip(means, stds, results.cv_results_['params']):\n",
    "        print(f'{round(mean, 3)} (+/-{round(std*2, 3)}) for {params}')"
   ]
  },
  {
   "cell_type": "code",
   "execution_count": 58,
   "id": "e6851695-5dee-402e-9084-606eef42b98a",
   "metadata": {},
   "outputs": [
    {
     "name": "stdout",
     "output_type": "stream",
     "text": [
      "BEST PARAMS: {'max_depth': 2, 'n_estimators': 100}\n",
      "\n",
      "0.822 (+/-0.11) for {'max_depth': 2, 'n_estimators': 5}\n",
      "0.853 (+/-0.091) for {'max_depth': 2, 'n_estimators': 50}\n",
      "0.856 (+/-0.084) for {'max_depth': 2, 'n_estimators': 100}\n",
      "0.855 (+/-0.083) for {'max_depth': 2, 'n_estimators': 150}\n",
      "0.831 (+/-0.088) for {'max_depth': 10, 'n_estimators': 5}\n",
      "0.842 (+/-0.105) for {'max_depth': 10, 'n_estimators': 50}\n",
      "0.853 (+/-0.112) for {'max_depth': 10, 'n_estimators': 100}\n",
      "0.847 (+/-0.111) for {'max_depth': 10, 'n_estimators': 150}\n",
      "0.831 (+/-0.102) for {'max_depth': 20, 'n_estimators': 5}\n",
      "0.844 (+/-0.112) for {'max_depth': 20, 'n_estimators': 50}\n",
      "0.842 (+/-0.103) for {'max_depth': 20, 'n_estimators': 100}\n",
      "0.842 (+/-0.109) for {'max_depth': 20, 'n_estimators': 150}\n",
      "0.838 (+/-0.116) for {'max_depth': 30, 'n_estimators': 5}\n",
      "0.84 (+/-0.12) for {'max_depth': 30, 'n_estimators': 50}\n",
      "0.849 (+/-0.091) for {'max_depth': 30, 'n_estimators': 100}\n",
      "0.849 (+/-0.109) for {'max_depth': 30, 'n_estimators': 150}\n",
      "0.836 (+/-0.13) for {'max_depth': None, 'n_estimators': 5}\n",
      "0.844 (+/-0.113) for {'max_depth': None, 'n_estimators': 50}\n",
      "0.845 (+/-0.108) for {'max_depth': None, 'n_estimators': 100}\n",
      "0.844 (+/-0.111) for {'max_depth': None, 'n_estimators': 150}\n"
     ]
    }
   ],
   "source": [
    "#Training - 'the best parameter'\n",
    "\n",
    "rf = RandomForestClassifier()\n",
    "parameters = {\n",
    "    'n_estimators': [5, 50, 100, 150],\n",
    "    'max_depth': [2, 10, 20, 30, None]\n",
    "}\n",
    "\n",
    "cv = GridSearchCV(rf, parameters, cv=10)\n",
    "cv.fit(x_train, y_train.values)\n",
    "print_results(cv)"
   ]
  },
  {
   "cell_type": "code",
   "execution_count": 59,
   "id": "c0a17634-c50e-4ca9-ad42-afa5d6b0ee8d",
   "metadata": {},
   "outputs": [
    {
     "name": "stdout",
     "output_type": "stream",
     "text": [
      "BEST PARAMS: {'n_neighbors': 5}\n",
      "\n",
      "0.764 (+/-0.142) for {'n_neighbors': 1}\n",
      "0.851 (+/-0.087) for {'n_neighbors': 5}\n",
      "0.84 (+/-0.097) for {'n_neighbors': 10}\n",
      "0.838 (+/-0.107) for {'n_neighbors': 100}\n"
     ]
    }
   ],
   "source": [
    "knn = KNeighborsClassifier()\n",
    "parameters = {\n",
    "    'n_neighbors': [1, 5, 10, 100]\n",
    "}\n",
    "\n",
    "cv = GridSearchCV(knn, parameters, cv=10)\n",
    "cv.fit(x_train, y_train.values)\n",
    "print_results(cv)"
   ]
  },
  {
   "cell_type": "code",
   "execution_count": 60,
   "id": "939b6499-3f91-4642-8a15-0cef8d7ebe4e",
   "metadata": {},
   "outputs": [
    {
     "name": "stdout",
     "output_type": "stream",
     "text": [
      "BEST PARAMS: {'C': 0.1}\n",
      "\n",
      "0.835 (+/-0.111) for {'C': 0.001}\n",
      "0.855 (+/-0.083) for {'C': 0.01}\n",
      "0.86 (+/-0.081) for {'C': 0.1}\n",
      "0.86 (+/-0.081) for {'C': 1}\n",
      "0.856 (+/-0.084) for {'C': 10}\n",
      "0.82 (+/-0.136) for {'C': 100}\n"
     ]
    }
   ],
   "source": [
    "svc = LinearSVC()\n",
    "parameters = {'C' : [0.001, 0.01, 0.1, 1, 10, 100]}\n",
    "\n",
    "cv = GridSearchCV(svc, parameters, cv=10)\n",
    "cv.fit(x_train, y_train.values)\n",
    "print_results(cv)"
   ]
  },
  {
   "cell_type": "code",
   "execution_count": 61,
   "id": "46a4414b-9439-404a-b7db-47469856f3aa",
   "metadata": {},
   "outputs": [
    {
     "name": "stdout",
     "output_type": "stream",
     "text": [
      "Random Forest: -- A: 0.843 / P: 0.82 / R: 0.901\n",
      "KNN: -- A: 0.876 / P: 0.863 / R: 0.909\n",
      "Linear SVC: -- A: 0.85 / P: 0.843 / R: 0.881\n"
     ]
    }
   ],
   "source": [
    "#validation -> finding best classifer(model)\n",
    "mdl1 = RandomForestClassifier(max_depth= 2, n_estimators=100)\n",
    "mdl1.fit(x_train, y_train)\n",
    "mdl2 = KNeighborsClassifier(n_neighbors=5)\n",
    "mdl2.fit(x_train, y_train)\n",
    "mdl3 = LinearSVC(C=0.1)\n",
    "mdl3.fit(x_train, y_train)\n",
    "model_names = ['Random Forest', 'KNN', 'Linear SVC']\n",
    "for mdl, name in zip([mdl1, mdl2, mdl3], model_names):\n",
    "    y_pred = mdl.predict(x_val)\n",
    "    accuracy = round(accuracy_score(y_val, y_pred), 3)\n",
    "    precision = round(precision_score(y_val, y_pred), 3)\n",
    "    recall = round(recall_score(y_val, y_pred), 3)\n",
    "    \n",
    "    print(f'{name}: -- A: {accuracy} / P: {precision} / R: {recall}')"
   ]
  },
  {
   "cell_type": "markdown",
   "id": "69a35f18-6367-46b5-8abf-61b89b82c1a4",
   "metadata": {},
   "source": [
    "Accuracy = # of asweres that are actually 1 / # of asweres we said 1\n",
    "\n",
    "Precision = # of asweres we said 1 / # of answers that we said are 1 and is actually 1 (How confident are we on our decision)\n",
    "\n",
    "Recall = (What is the probability that we guess the correct answer)"
   ]
  },
  {
   "cell_type": "markdown",
   "id": "67375a65-f4a7-4a80-b4dc-5c2ea373454f",
   "metadata": {},
   "source": [
    "# Testing"
   ]
  },
  {
   "cell_type": "code",
   "execution_count": 62,
   "id": "1243ebbc-9151-459a-bad4-1b23e9e0e23e",
   "metadata": {},
   "outputs": [
    {
     "name": "stdout",
     "output_type": "stream",
     "text": [
      "-- A: 0.861 / P: 0.91 / R: 0.842\n"
     ]
    }
   ],
   "source": [
    "x_train = pd.concat([x_train, x_val])\n",
    "y_train = pd.concat([y_train, y_val])\n",
    "\n",
    "mdl = KNeighborsClassifier(n_neighbors=5)\n",
    "mdl.fit(x_train, y_train)\n",
    "\n",
    "y_pred = mdl.predict(x_test)\n",
    "accuracy = round(accuracy_score(y_test, y_pred), 3)\n",
    "precision = round(precision_score(y_test, y_pred), 3)\n",
    "recall = round(recall_score(y_test, y_pred), 3)\n",
    "\n",
    "print(f'-- A: {accuracy} / P: {precision} / R: {recall}')"
   ]
  },
  {
   "cell_type": "code",
   "execution_count": null,
   "id": "0104185f-9842-4675-87ec-5e6b7e0ce2f4",
   "metadata": {},
   "outputs": [],
   "source": []
  }
 ],
 "metadata": {
  "kernelspec": {
   "display_name": "Python 3 (ipykernel)",
   "language": "python",
   "name": "python3"
  },
  "language_info": {
   "codemirror_mode": {
    "name": "ipython",
    "version": 3
   },
   "file_extension": ".py",
   "mimetype": "text/x-python",
   "name": "python",
   "nbconvert_exporter": "python",
   "pygments_lexer": "ipython3",
   "version": "3.9.12"
  }
 },
 "nbformat": 4,
 "nbformat_minor": 5
}
